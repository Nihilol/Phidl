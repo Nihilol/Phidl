{
 "cells": [
  {
   "cell_type": "code",
   "execution_count": 1,
   "metadata": {},
   "outputs": [
    {
     "name": "stdout",
     "output_type": "stream",
     "text": [
      "|------------------| 1%\n",
      "|===---------------| 16.6%\n",
      "|======------------| 33.3%\n",
      "|=========---------| 50%\n",
      "|============------| 66.6%\n",
      "|===============---| 83.3%\n",
      "|==================| 100%\n"
     ]
    }
   ],
   "source": [
    "from phidl_homebrew_library import *\n",
    "\n",
    "\n",
    "\n",
    "build_4_chip() # To build the chip, which has 4 devices, in a 2x2 grid. What I used in my thesis. \n",
    "\n",
    "#build_single_test() # For new testing purposes. This will build a single test device, with amount_of_dots_1 as set in the conf file.\n",
    "                      # Use this, if only interested in the routing of a single device or for testing."
   ]
  },
  {
   "cell_type": "code",
   "execution_count": null,
   "metadata": {},
   "outputs": [],
   "source": []
  }
 ],
 "metadata": {
  "kernelspec": {
   "display_name": "Python 3",
   "language": "python",
   "name": "python3"
  },
  "language_info": {
   "codemirror_mode": {
    "name": "ipython",
    "version": 3
   },
   "file_extension": ".py",
   "mimetype": "text/x-python",
   "name": "python",
   "nbconvert_exporter": "python",
   "pygments_lexer": "ipython3",
   "version": "3.12.5"
  }
 },
 "nbformat": 4,
 "nbformat_minor": 2
}
